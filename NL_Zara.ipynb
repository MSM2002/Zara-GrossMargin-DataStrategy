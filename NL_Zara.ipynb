{
 "cells": [
  {
   "cell_type": "markdown",
   "id": "9b3e1010",
   "metadata": {},
   "source": [
    "# Business Problem Overview"
   ]
  },
  {
   "cell_type": "markdown",
   "id": "5be474c6",
   "metadata": {},
   "source": [
    "\n",
    "## Zara: Maximising Gross Margin through Data-Driven Retail Strategy\n",
    "Zara is among the world’s largest and most recognized fashion brands, with a global presence spanning many countries. The brand is renowned for its fast fashion approach, on-trend designs, and highly efficient supply chain. As Zara expands, its focus is shifting from simply boosting sales to enhancing profitability.\n",
    "\n",
    "The company’s leadership has pinpointed **Gross Margin** as a crucial business metric. Gross Margin represents the gap between Zara’s revenue and the costs incurred to produce its products. By increasing Gross Margin, Zara can maintain affordable prices for customers while ensuring strong profits.\n",
    "\n",
    "Zara sees various untapped opportunities to improve this margin. These could include:\n",
    "- How products are priced\n",
    "- Which customer groups are targeted\n",
    "- Identifying top-performing stores\n",
    "- The way discounts are managed\n",
    "- The profit contribution of different product categories\n",
    "\n",
    "**Key Metric:** Gross Margin\n",
    "- $\\text{Gross Margin} = \\text{Revenue} − \\text{Production Cost}$\n",
    "\n",
    "Where:\n",
    "- $\\text{Revenue} = \\text{Unit Price} \\times \\text{Quantity} \\times (1 − \\text{Discount})$\n",
    "- $\\text{Production Cost} = \\text{Unit Production Cost} \\times \\text{Quantity}$\n",
    "### Objective\n",
    "A data analyst at Zara works with the company’s global retail dataset to uncover insights that support maximizing Gross Margin across various markets, product lines, and customer segments. This involves:\n",
    "\n",
    "- Breaking down Gross Margin as a business metric by examining it across different dimensions, such as geography, product categories, time periods, customer profiles, and store performance.\n",
    "- Identifying which combinations of product types, customer groups, and locations are the most and least profitable.\n",
    "- Investigating how operational factors-like discount strategies, employee roles, or store sizes-affect margin performance.\n",
    "- Analyzing trends over time, across regions, and among store types to generate actionable insights for pricing, product focus, and resource allocation."
   ]
  },
  {
   "cell_type": "markdown",
   "id": "bb982a98",
   "metadata": {},
   "source": [
    "# Dataset Overview"
   ]
  },
  {
   "cell_type": "markdown",
   "id": "99ff3718",
   "metadata": {},
   "source": [
    "# Analysis & Visualisation"
   ]
  },
  {
   "cell_type": "markdown",
   "id": "8f0d4fe6",
   "metadata": {},
   "source": [
    "## 1. Importing & Cleaning Data"
   ]
  },
  {
   "cell_type": "markdown",
   "id": "a0a8473a",
   "metadata": {},
   "source": [
    "The following code will download the datasets from Google Drive and storing them in a directory called `Datasets`."
   ]
  },
  {
   "cell_type": "code",
   "execution_count": 29,
   "id": "7234fd23",
   "metadata": {},
   "outputs": [
    {
     "name": "stderr",
     "output_type": "stream",
     "text": [
      "Downloading...\n",
      "From (original): https://drive.google.com/uc?id=1gU90GdFLZOO5jPePOAVbNakNX5DCKgtQ\n",
      "From (redirected): https://drive.google.com/uc?id=1gU90GdFLZOO5jPePOAVbNakNX5DCKgtQ&confirm=t&uuid=fc5b70b9-4bc2-4ed8-8a0c-65114faaa679\n",
      "To: d:\\NextLeap\\Graduation Project - May 2025\\Datasets\\transactions.csv\n",
      "100%|██████████| 805M/805M [03:36<00:00, 3.71MB/s] \n",
      "Downloading...\n",
      "From: https://drive.google.com/uc?id=1QoHCOAkfdKciP94CxUfw4xf9oZyXBqD6\n",
      "To: d:\\NextLeap\\Graduation Project - May 2025\\Datasets\\stores.csv\n",
      "100%|██████████| 2.19k/2.19k [00:00<00:00, 5.27MB/s]\n",
      "Downloading...\n",
      "From: https://drive.google.com/uc?id=1B-XBx4cHbYMCoY--P3s3Lmy9QVzouCyC\n",
      "To: d:\\NextLeap\\Graduation Project - May 2025\\Datasets\\products.csv\n",
      "100%|██████████| 4.99M/4.99M [00:03<00:00, 1.41MB/s]\n",
      "Downloading...\n",
      "From: https://drive.google.com/uc?id=1lZwCUHlwgX97-xcbQV8FEeQ2JLtJQa1s\n",
      "To: d:\\NextLeap\\Graduation Project - May 2025\\Datasets\\employees.csv\n",
      "100%|██████████| 15.2k/15.2k [00:00<00:00, 480kB/s]\n",
      "Downloading...\n",
      "From: https://drive.google.com/uc?id=1NJ0O1NJ20VeMzZYHiFBCrOIFnXKaggTc\n",
      "To: d:\\NextLeap\\Graduation Project - May 2025\\Datasets\\discounts.csv\n",
      "100%|██████████| 18.3k/18.3k [00:00<00:00, 29.4kB/s]\n",
      "Downloading...\n",
      "From (original): https://drive.google.com/uc?id=13-juheNtpYsXAjm_D0W7EDB86pAl1Pew\n",
      "From (redirected): https://drive.google.com/uc?id=13-juheNtpYsXAjm_D0W7EDB86pAl1Pew&confirm=t&uuid=eefa945c-9ef1-411d-87ad-d2e2509f9d35\n",
      "To: d:\\NextLeap\\Graduation Project - May 2025\\Datasets\\customers.csv\n",
      "100%|██████████| 191M/191M [01:15<00:00, 2.53MB/s] \n"
     ]
    }
   ],
   "source": [
    "import pandas as pd\n",
    "import gdown\n",
    "\n",
    "# Storing file_ids with their file names in a list\n",
    "files = [('1gU90GdFLZOO5jPePOAVbNakNX5DCKgtQ', 'transactions'),\n",
    "         ('1QoHCOAkfdKciP94CxUfw4xf9oZyXBqD6','stores'),\n",
    "         ('1B-XBx4cHbYMCoY--P3s3Lmy9QVzouCyC','products'),\n",
    "         ('1lZwCUHlwgX97-xcbQV8FEeQ2JLtJQa1s','employees'),\n",
    "         ('1NJ0O1NJ20VeMzZYHiFBCrOIFnXKaggTc','discounts'),\n",
    "         ('13-juheNtpYsXAjm_D0W7EDB86pAl1Pew','customers')] \n",
    "\n",
    "for file_id, name in files:\n",
    "   download_url = f\"https://drive.google.com/uc?id={file_id}\"\n",
    "   download_file = f\"Datasets/{name}.csv\"  # First create the directory Datasets in your Project folder\n",
    "   gdown.download(download_url, download_file, quiet=False)\n"
   ]
  },
  {
   "cell_type": "code",
   "execution_count": null,
   "id": "862f26a9",
   "metadata": {},
   "outputs": [],
   "source": [
    "# Reading the CSVs into dataframes\n",
    "transactions = pd.read_csv(\"Datasets/transactions.csv\")\n",
    "stores = pd.read_csv(\"Datasets/stores.csv\")\n",
    "products = pd.read_csv(\"Datasets/products.csv\")\n",
    "employees = pd.read_csv(\"Datasets/employees.csv\")\n",
    "discounts = pd.read_csv(\"Datasets/discounts.csv\")\n",
    "customers = pd.read_csv(\"Datasets/customers.csv\")"
   ]
  },
  {
   "cell_type": "markdown",
   "id": "78a11c17",
   "metadata": {},
   "source": [
    "# Key Findings & Recommendations"
   ]
  }
 ],
 "metadata": {
  "kernelspec": {
   "display_name": "Python 3",
   "language": "python",
   "name": "python3"
  },
  "language_info": {
   "codemirror_mode": {
    "name": "ipython",
    "version": 3
   },
   "file_extension": ".py",
   "mimetype": "text/x-python",
   "name": "python",
   "nbconvert_exporter": "python",
   "pygments_lexer": "ipython3",
   "version": "3.13.2"
  }
 },
 "nbformat": 4,
 "nbformat_minor": 5
}
