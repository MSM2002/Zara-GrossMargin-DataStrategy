{
 "cells": [
  {
   "cell_type": "markdown",
   "id": "9b3e1010",
   "metadata": {},
   "source": [
    "# Business Problem Overview"
   ]
  },
  {
   "cell_type": "markdown",
   "id": "5be474c6",
   "metadata": {},
   "source": [
    "\n",
    "## Zara: Maximising Gross Margin through Data-Driven Retail Strategy\n",
    "Zara is among the world’s largest and most recognized fashion brands, with a global presence spanning many countries. The brand is renowned for its fast fashion approach, on-trend designs, and highly efficient supply chain. As Zara expands, its focus is shifting from simply boosting sales to enhancing profitability.\n",
    "\n",
    "The company’s leadership has pinpointed **Gross Margin** as a crucial business metric. Gross Margin represents the gap between Zara’s revenue and the costs incurred to produce its products. By increasing Gross Margin, Zara can maintain affordable prices for customers while ensuring strong profits.\n",
    "\n",
    "Zara sees various untapped opportunities to improve this margin. These could include:\n",
    "- How products are priced\n",
    "- Which customer groups are targeted\n",
    "- Identifying top-performing stores\n",
    "- The way discounts are managed\n",
    "- The profit contribution of different product categories\n",
    "\n",
    "**Key Metric:** Gross Margin\n",
    "- $\\text{Gross Margin} = \\text{Revenue} − \\text{Production Cost}$\n",
    "\n",
    "Where:\n",
    "- $\\text{Revenue} = \\text{Unit Price} \\times \\text{Quantity} \\times (1 − \\text{Discount})$\n",
    "- $\\text{Production Cost} = \\text{Unit Production Cost} \\times \\text{Quantity}$\n",
    "### Objective\n",
    "A data analyst at Zara works with the company’s global retail dataset to uncover insights that support maximizing Gross Margin across various markets, product lines, and customer segments. This involves:\n",
    "\n",
    "- Breaking down Gross Margin as a business metric by examining it across different dimensions, such as geography, product categories, time periods, customer profiles, and store performance.\n",
    "- Identifying which combinations of product types, customer groups, and locations are the most and least profitable.\n",
    "- Investigating how operational factors-like discount strategies, employee roles, or store sizes-affect margin performance.\n",
    "- Analyzing trends over time, across regions, and among store types to generate actionable insights for pricing, product focus, and resource allocation."
   ]
  },
  {
   "cell_type": "markdown",
   "id": "bb982a98",
   "metadata": {},
   "source": [
    "# Dataset Overview"
   ]
  },
  {
   "cell_type": "markdown",
   "id": "da996b0c",
   "metadata": {},
   "source": [
    "- **Dataset Name** : Zara Retail Dataset\n",
    "- **Number of Tables** : 6\n",
    "- **List of Tables**:\n",
    "    - Customers\n",
    "    - Discounts\n",
    "    - Employees\n",
    "    - Products\n",
    "    - Stores\n",
    "    - Transactions"
   ]
  },
  {
   "cell_type": "markdown",
   "id": "814b97ba",
   "metadata": {},
   "source": [
    "## Table Overviews"
   ]
  },
  {
   "cell_type": "markdown",
   "id": "36f6995e",
   "metadata": {},
   "source": [
    "### 1. Customers"
   ]
  },
  {
   "cell_type": "markdown",
   "id": "40483ed9",
   "metadata": {},
   "source": [
    "- **Table Name** : Customers\n",
    "- **Number of Rows** : 1643306\n",
    "- **Number of Columns** : 9\n",
    "- **Description** : This table gives details of Zara's customers including contact information, location and job title."
   ]
  },
  {
   "cell_type": "markdown",
   "id": "78052d6e",
   "metadata": {},
   "source": [
    "### 2. Discounts"
   ]
  },
  {
   "cell_type": "markdown",
   "id": "eaf56efd",
   "metadata": {},
   "source": [
    "- **Table Name** : Discounts\n",
    "- **Number of Rows** : 181\n",
    "- **Number of Columns** : 6\n",
    "- **Description** : This table gives details of discount sales in Zara stores."
   ]
  },
  {
   "cell_type": "markdown",
   "id": "fe87b850",
   "metadata": {},
   "source": [
    "## Column Definitions"
   ]
  },
  {
   "cell_type": "markdown",
   "id": "2005f6f8",
   "metadata": {},
   "source": [
    "### 1. Customers"
   ]
  },
  {
   "cell_type": "markdown",
   "id": "abbb6d78",
   "metadata": {},
   "source": [
    "- **CustomerID**\n",
    "    - *Description*: Unique number assigned to each customer.\n",
    "    - *Example*: `1` refers to the customer Tyler Garcia.\n",
    "- **Name**\n",
    "    - *Description*: Full name of the customer. May include titles like \"Mr.\" or job-related suffixes.\n",
    "    - *Example*: `Tyler Garcia`\n",
    "- **Email**\n",
    "    - *Description*: Anonymized email address using fake domains (like fake_gmail.com).\n",
    "    - *Example*: `tyler.garcia@fake_gmail.com`\n",
    "- **Telephone**\n",
    "    - *Description*: Customer’s phone number. Formats may vary, and may include country codes or extensions.\n",
    "    - *Example*: `922.970.2265x47563`\t\n",
    "- **City**\n",
    "    - *Description*: City where the customer is located.\n",
    "    - *Example*: `New York`\n",
    "- **Country**\n",
    "    - *Description*: Country where the customer resides.\n",
    "    - *Example*: `United States`\n",
    "- **Gender**\n",
    "    - *Description*: Customer's gender. Values can be F (Female), M (Male), or D (Diverse).\n",
    "    - *Example*: `M`\n",
    "- **DateOfBirth**\n",
    "    - *Description*: Customer’s date of birth in YYYY-MM-DD format.\n",
    "    - *Example*: `1968-12-18`\n",
    "- **JobTitle**\n",
    "    - *Description*: Customer’s occupation. May be blank or contain multiple job roles.\n",
    "    - *Example*: `Restaurant manager`"
   ]
  },
  {
   "cell_type": "markdown",
   "id": "ba283fc2",
   "metadata": {},
   "source": [
    "### 2. Discounts"
   ]
  },
  {
   "cell_type": "markdown",
   "id": "99ff3718",
   "metadata": {},
   "source": [
    "# Analysis & Visualisation"
   ]
  },
  {
   "cell_type": "markdown",
   "id": "8f0d4fe6",
   "metadata": {},
   "source": [
    "## 1. Importing & Cleaning Data"
   ]
  },
  {
   "cell_type": "markdown",
   "id": "a0a8473a",
   "metadata": {},
   "source": [
    "The following code will download the datasets from Google Drive and storing them in a directory called `Datasets`."
   ]
  },
  {
   "cell_type": "code",
   "execution_count": 2,
   "id": "7234fd23",
   "metadata": {},
   "outputs": [],
   "source": [
    "import pandas as pd\n",
    "import gdown"
   ]
  },
  {
   "cell_type": "code",
   "execution_count": null,
   "id": "97c093ed",
   "metadata": {},
   "outputs": [],
   "source": [
    "# Storing file_ids with their file names in a list\n",
    "files = [('1gU90GdFLZOO5jPePOAVbNakNX5DCKgtQ', 'transactions'),\n",
    "         ('1QoHCOAkfdKciP94CxUfw4xf9oZyXBqD6','stores'),\n",
    "         ('1B-XBx4cHbYMCoY--P3s3Lmy9QVzouCyC','products'),\n",
    "         ('1lZwCUHlwgX97-xcbQV8FEeQ2JLtJQa1s','employees'),\n",
    "         ('1NJ0O1NJ20VeMzZYHiFBCrOIFnXKaggTc','discounts'),\n",
    "         ('13-juheNtpYsXAjm_D0W7EDB86pAl1Pew','customers')] \n",
    "\n",
    "for file_id, name in files:\n",
    "   download_url = f\"https://drive.google.com/uc?id={file_id}\"\n",
    "   download_file = f\"Datasets/{name}.csv\"  # First create the directory Datasets in your Project folder\n",
    "   gdown.download(download_url, download_file, quiet=False)"
   ]
  },
  {
   "cell_type": "code",
   "execution_count": 3,
   "id": "862f26a9",
   "metadata": {},
   "outputs": [
    {
     "name": "stderr",
     "output_type": "stream",
     "text": [
      "C:\\Users\\manas\\AppData\\Local\\Temp\\ipykernel_17500\\1314012598.py:7: DtypeWarning: Columns (3) have mixed types. Specify dtype option on import or set low_memory=False.\n",
      "  customers = pd.read_csv(\"Datasets/customers.csv\")\n"
     ]
    }
   ],
   "source": [
    "# Reading the CSVs into dataframes\n",
    "transactions = pd.read_csv(\"Datasets/transactions.csv\")\n",
    "stores = pd.read_csv(\"Datasets/stores.csv\")\n",
    "products = pd.read_csv(\"Datasets/products.csv\")\n",
    "employees = pd.read_csv(\"Datasets/employees.csv\")\n",
    "discounts = pd.read_csv(\"Datasets/discounts.csv\")\n",
    "customers = pd.read_csv(\"Datasets/customers.csv\")"
   ]
  },
  {
   "cell_type": "code",
   "execution_count": 5,
   "id": "e6ce2a58",
   "metadata": {},
   "outputs": [
    {
     "data": {
      "text/html": [
       "<div>\n",
       "<style scoped>\n",
       "    .dataframe tbody tr th:only-of-type {\n",
       "        vertical-align: middle;\n",
       "    }\n",
       "\n",
       "    .dataframe tbody tr th {\n",
       "        vertical-align: top;\n",
       "    }\n",
       "\n",
       "    .dataframe thead th {\n",
       "        text-align: right;\n",
       "    }\n",
       "</style>\n",
       "<table border=\"1\" class=\"dataframe\">\n",
       "  <thead>\n",
       "    <tr style=\"text-align: right;\">\n",
       "      <th></th>\n",
       "      <th>Start</th>\n",
       "      <th>End</th>\n",
       "      <th>Discont</th>\n",
       "      <th>Description</th>\n",
       "      <th>Category</th>\n",
       "      <th>Sub Category</th>\n",
       "    </tr>\n",
       "  </thead>\n",
       "  <tbody>\n",
       "    <tr>\n",
       "      <th>0</th>\n",
       "      <td>2020-01-01</td>\n",
       "      <td>2020-01-10</td>\n",
       "      <td>0.40</td>\n",
       "      <td>40% discount during our New Year Winter Sale</td>\n",
       "      <td>Feminine</td>\n",
       "      <td>Coats and Blazers</td>\n",
       "    </tr>\n",
       "    <tr>\n",
       "      <th>1</th>\n",
       "      <td>2020-01-01</td>\n",
       "      <td>2020-01-10</td>\n",
       "      <td>0.40</td>\n",
       "      <td>40% discount during our New Year Winter Sale</td>\n",
       "      <td>Feminine</td>\n",
       "      <td>Sweaters and Knitwear</td>\n",
       "    </tr>\n",
       "    <tr>\n",
       "      <th>2</th>\n",
       "      <td>2020-01-01</td>\n",
       "      <td>2020-01-10</td>\n",
       "      <td>0.40</td>\n",
       "      <td>40% discount during our New Year Winter Sale</td>\n",
       "      <td>Masculine</td>\n",
       "      <td>Coats and Blazers</td>\n",
       "    </tr>\n",
       "    <tr>\n",
       "      <th>3</th>\n",
       "      <td>2020-01-01</td>\n",
       "      <td>2020-01-10</td>\n",
       "      <td>0.40</td>\n",
       "      <td>40% discount during our New Year Winter Sale</td>\n",
       "      <td>Masculine</td>\n",
       "      <td>Sweaters and Sweatshirts</td>\n",
       "    </tr>\n",
       "    <tr>\n",
       "      <th>4</th>\n",
       "      <td>2020-01-01</td>\n",
       "      <td>2020-01-10</td>\n",
       "      <td>0.40</td>\n",
       "      <td>40% discount during our New Year Winter Sale</td>\n",
       "      <td>Children</td>\n",
       "      <td>Coats</td>\n",
       "    </tr>\n",
       "    <tr>\n",
       "      <th>...</th>\n",
       "      <td>...</td>\n",
       "      <td>...</td>\n",
       "      <td>...</td>\n",
       "      <td>...</td>\n",
       "      <td>...</td>\n",
       "      <td>...</td>\n",
       "    </tr>\n",
       "    <tr>\n",
       "      <th>176</th>\n",
       "      <td>2025-03-15</td>\n",
       "      <td>2025-03-31</td>\n",
       "      <td>0.35</td>\n",
       "      <td>35% discount during our Early Spring Collectio...</td>\n",
       "      <td>Feminine</td>\n",
       "      <td>Dresses and Jumpsuits</td>\n",
       "    </tr>\n",
       "    <tr>\n",
       "      <th>177</th>\n",
       "      <td>2025-03-15</td>\n",
       "      <td>2025-03-31</td>\n",
       "      <td>0.35</td>\n",
       "      <td>35% discount during our Early Spring Collectio...</td>\n",
       "      <td>Feminine</td>\n",
       "      <td>Shirts and Blouses</td>\n",
       "    </tr>\n",
       "    <tr>\n",
       "      <th>178</th>\n",
       "      <td>2025-03-15</td>\n",
       "      <td>2025-03-31</td>\n",
       "      <td>0.35</td>\n",
       "      <td>35% discount during our Early Spring Collectio...</td>\n",
       "      <td>Masculine</td>\n",
       "      <td>T-shirts and Polos</td>\n",
       "    </tr>\n",
       "    <tr>\n",
       "      <th>179</th>\n",
       "      <td>2025-03-15</td>\n",
       "      <td>2025-03-31</td>\n",
       "      <td>0.35</td>\n",
       "      <td>35% discount during our Early Spring Collectio...</td>\n",
       "      <td>Masculine</td>\n",
       "      <td>Shirts</td>\n",
       "    </tr>\n",
       "    <tr>\n",
       "      <th>180</th>\n",
       "      <td>2025-03-15</td>\n",
       "      <td>2025-03-31</td>\n",
       "      <td>0.35</td>\n",
       "      <td>35% discount during our Early Spring Collectio...</td>\n",
       "      <td>Children</td>\n",
       "      <td>Girl and Boy (1-5 years, 6-14 years)</td>\n",
       "    </tr>\n",
       "  </tbody>\n",
       "</table>\n",
       "<p>181 rows × 6 columns</p>\n",
       "</div>"
      ],
      "text/plain": [
       "          Start         End  Discont  \\\n",
       "0    2020-01-01  2020-01-10     0.40   \n",
       "1    2020-01-01  2020-01-10     0.40   \n",
       "2    2020-01-01  2020-01-10     0.40   \n",
       "3    2020-01-01  2020-01-10     0.40   \n",
       "4    2020-01-01  2020-01-10     0.40   \n",
       "..          ...         ...      ...   \n",
       "176  2025-03-15  2025-03-31     0.35   \n",
       "177  2025-03-15  2025-03-31     0.35   \n",
       "178  2025-03-15  2025-03-31     0.35   \n",
       "179  2025-03-15  2025-03-31     0.35   \n",
       "180  2025-03-15  2025-03-31     0.35   \n",
       "\n",
       "                                           Description   Category  \\\n",
       "0         40% discount during our New Year Winter Sale   Feminine   \n",
       "1         40% discount during our New Year Winter Sale   Feminine   \n",
       "2         40% discount during our New Year Winter Sale  Masculine   \n",
       "3         40% discount during our New Year Winter Sale  Masculine   \n",
       "4         40% discount during our New Year Winter Sale   Children   \n",
       "..                                                 ...        ...   \n",
       "176  35% discount during our Early Spring Collectio...   Feminine   \n",
       "177  35% discount during our Early Spring Collectio...   Feminine   \n",
       "178  35% discount during our Early Spring Collectio...  Masculine   \n",
       "179  35% discount during our Early Spring Collectio...  Masculine   \n",
       "180  35% discount during our Early Spring Collectio...   Children   \n",
       "\n",
       "                             Sub Category  \n",
       "0                       Coats and Blazers  \n",
       "1                   Sweaters and Knitwear  \n",
       "2                       Coats and Blazers  \n",
       "3                Sweaters and Sweatshirts  \n",
       "4                                   Coats  \n",
       "..                                    ...  \n",
       "176                 Dresses and Jumpsuits  \n",
       "177                    Shirts and Blouses  \n",
       "178                    T-shirts and Polos  \n",
       "179                                Shirts  \n",
       "180  Girl and Boy (1-5 years, 6-14 years)  \n",
       "\n",
       "[181 rows x 6 columns]"
      ]
     },
     "execution_count": 5,
     "metadata": {},
     "output_type": "execute_result"
    }
   ],
   "source": [
    "discounts"
   ]
  },
  {
   "cell_type": "markdown",
   "id": "78a11c17",
   "metadata": {},
   "source": [
    "# Key Findings & Recommendations"
   ]
  }
 ],
 "metadata": {
  "kernelspec": {
   "display_name": "Python 3",
   "language": "python",
   "name": "python3"
  },
  "language_info": {
   "codemirror_mode": {
    "name": "ipython",
    "version": 3
   },
   "file_extension": ".py",
   "mimetype": "text/x-python",
   "name": "python",
   "nbconvert_exporter": "python",
   "pygments_lexer": "ipython3",
   "version": "3.13.2"
  }
 },
 "nbformat": 4,
 "nbformat_minor": 5
}
