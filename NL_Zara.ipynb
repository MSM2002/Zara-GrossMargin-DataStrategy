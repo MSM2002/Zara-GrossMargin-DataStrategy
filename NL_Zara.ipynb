{
 "cells": [
  {
   "cell_type": "markdown",
   "id": "9b3e1010",
   "metadata": {},
   "source": [
    "# Business Problem Overview"
   ]
  },
  {
   "cell_type": "markdown",
   "id": "5be474c6",
   "metadata": {},
   "source": [
    "\n",
    "## Zara: Maximising Gross Margin through Data-Driven Retail Strategy\n",
    "Zara is among the world’s largest and most recognized fashion brands, with a global presence spanning many countries. The brand is renowned for its fast fashion approach, on-trend designs, and highly efficient supply chain. As Zara expands, its focus is shifting from simply boosting sales to enhancing profitability.\n",
    "\n",
    "The company’s leadership has pinpointed **Gross Margin** as a crucial business metric. Gross Margin represents the gap between Zara’s revenue and the costs incurred to produce its products. By increasing Gross Margin, Zara can maintain affordable prices for customers while ensuring strong profits.\n",
    "\n",
    "Zara sees various untapped opportunities to improve this margin. These could include:\n",
    "- How products are priced\n",
    "- Which customer groups are targeted\n",
    "- Identifying top-performing stores\n",
    "- The way discounts are managed\n",
    "- The profit contribution of different product categories\n",
    "\n",
    "**Key Metric:** Gross Margin\n",
    "- $\\text{Gross Margin} = \\text{Revenue} − \\text{Production Cost}$\n",
    "\n",
    "Where:\n",
    "- $\\text{Revenue} = \\text{Unit Price} \\times \\text{Quantity} \\times (1 − \\text{Discount})$\n",
    "- $\\text{Production Cost} = \\text{Unit Production Cost} \\times \\text{Quantity}$\n",
    "### Objective\n",
    "A data analyst at Zara works with the company’s global retail dataset to uncover insights that support maximizing Gross Margin across various markets, product lines, and customer segments. This involves:\n",
    "\n",
    "- Breaking down Gross Margin as a business metric by examining it across different dimensions, such as geography, product categories, time periods, customer profiles, and store performance.\n",
    "- Identifying which combinations of product types, customer groups, and locations are the most and least profitable.\n",
    "- Investigating how operational factors-like discount strategies, employee roles, or store sizes-affect margin performance.\n",
    "- Analyzing trends over time, across regions, and among store types to generate actionable insights for pricing, product focus, and resource allocation."
   ]
  },
  {
   "cell_type": "markdown",
   "id": "bb982a98",
   "metadata": {},
   "source": [
    "# Dataset Overview"
   ]
  },
  {
   "cell_type": "markdown",
   "id": "da996b0c",
   "metadata": {},
   "source": [
    "- **Dataset Name** : Zara Retail Dataset\n",
    "- **Number of Tables** : 6\n",
    "- **List of Tables**:\n",
    "    - Customers\n",
    "    - Discounts\n",
    "    - Employees\n",
    "    - Products\n",
    "    - Stores\n",
    "    - Transactions"
   ]
  },
  {
   "cell_type": "markdown",
   "id": "814b97ba",
   "metadata": {},
   "source": [
    "## Table Overviews"
   ]
  },
  {
   "cell_type": "markdown",
   "id": "36f6995e",
   "metadata": {},
   "source": [
    "### 1. Customers"
   ]
  },
  {
   "cell_type": "markdown",
   "id": "40483ed9",
   "metadata": {},
   "source": [
    "- **Table Name** : Customers\n",
    "- **Number of Rows** : 1643306\n",
    "- **Number of Columns** : 9\n",
    "- **Description** : This table gives details of Zara's customers including contact information, location and job title."
   ]
  },
  {
   "cell_type": "markdown",
   "id": "fe87b850",
   "metadata": {},
   "source": [
    "## Column Definitions"
   ]
  },
  {
   "cell_type": "markdown",
   "id": "2005f6f8",
   "metadata": {},
   "source": [
    "### 1. Customers"
   ]
  },
  {
   "cell_type": "markdown",
   "id": "abbb6d78",
   "metadata": {},
   "source": [
    "- **CustomerID**\n",
    "    - *Description*: Unique number assigned to each customer.\n",
    "    - *Example*: `1` refers to the customer Tyler Garcia.\n",
    "- **Name**\n",
    "    - *Description*: Full name of the customer. May include titles like \"Mr.\" or job-related suffixes.\n",
    "    - *Example*: `Tyler Garcia`\n",
    "- **Email**\n",
    "    - *Description*: Anonymized email address using fake domains (like fake_gmail.com).\n",
    "    - *Example*: `tyler.garcia@fake_gmail.com`\n",
    "- **Telephone**\n",
    "    - *Description*: Customer’s phone number. Formats may vary, and may include country codes or extensions.\n",
    "    - *Example*: `922.970.2265x47563`\t\n",
    "- **City**\n",
    "    - *Description*: City where the customer is located.\n",
    "    - *Example*: `New York`\n",
    "- **Country**\n",
    "    - *Description*: Country where the customer resides.\n",
    "    - *Example*: `United States`\n",
    "- **Gender**\n",
    "    - *Description*: Customer's gender. Values can be F (Female), M (Male), or D (Diverse).\n",
    "    - *Example*: `M`\n",
    "- **DateOfBirth**\n",
    "    - *Description*: Customer’s date of birth in YYYY-MM-DD format.\n",
    "    - *Example*: `1968-12-18`\n",
    "- **JobTitle**\n",
    "    - *Description*: Customer’s occupation. May be blank or contain multiple job roles.\n",
    "    - *Example*: `Restaurant manager`"
   ]
  },
  {
   "cell_type": "markdown",
   "id": "99ff3718",
   "metadata": {},
   "source": [
    "# Analysis & Visualisation"
   ]
  },
  {
   "cell_type": "markdown",
   "id": "8f0d4fe6",
   "metadata": {},
   "source": [
    "## 1. Importing & Cleaning Data"
   ]
  },
  {
   "cell_type": "markdown",
   "id": "a0a8473a",
   "metadata": {},
   "source": [
    "The following code will download the datasets from Google Drive and storing them in a directory called `Datasets`."
   ]
  },
  {
   "cell_type": "code",
   "execution_count": 1,
   "id": "7234fd23",
   "metadata": {},
   "outputs": [],
   "source": [
    "import pandas as pd\n",
    "import gdown"
   ]
  },
  {
   "cell_type": "code",
   "execution_count": null,
   "id": "97c093ed",
   "metadata": {},
   "outputs": [],
   "source": [
    "# Storing file_ids with their file names in a list\n",
    "files = [('1gU90GdFLZOO5jPePOAVbNakNX5DCKgtQ', 'transactions'),\n",
    "         ('1QoHCOAkfdKciP94CxUfw4xf9oZyXBqD6','stores'),\n",
    "         ('1B-XBx4cHbYMCoY--P3s3Lmy9QVzouCyC','products'),\n",
    "         ('1lZwCUHlwgX97-xcbQV8FEeQ2JLtJQa1s','employees'),\n",
    "         ('1NJ0O1NJ20VeMzZYHiFBCrOIFnXKaggTc','discounts'),\n",
    "         ('13-juheNtpYsXAjm_D0W7EDB86pAl1Pew','customers')] \n",
    "\n",
    "for file_id, name in files:\n",
    "   download_url = f\"https://drive.google.com/uc?id={file_id}\"\n",
    "   download_file = f\"Datasets/{name}.csv\"  # First create the directory Datasets in your Project folder\n",
    "   gdown.download(download_url, download_file, quiet=False)"
   ]
  },
  {
   "cell_type": "code",
   "execution_count": 2,
   "id": "862f26a9",
   "metadata": {},
   "outputs": [
    {
     "name": "stderr",
     "output_type": "stream",
     "text": [
      "C:\\Users\\manas\\AppData\\Local\\Temp\\ipykernel_26556\\1314012598.py:7: DtypeWarning: Columns (3) have mixed types. Specify dtype option on import or set low_memory=False.\n",
      "  customers = pd.read_csv(\"Datasets/customers.csv\")\n"
     ]
    }
   ],
   "source": [
    "# Reading the CSVs into dataframes\n",
    "transactions = pd.read_csv(\"Datasets/transactions.csv\")\n",
    "stores = pd.read_csv(\"Datasets/stores.csv\")\n",
    "products = pd.read_csv(\"Datasets/products.csv\")\n",
    "employees = pd.read_csv(\"Datasets/employees.csv\")\n",
    "discounts = pd.read_csv(\"Datasets/discounts.csv\")\n",
    "customers = pd.read_csv(\"Datasets/customers.csv\")"
   ]
  },
  {
   "cell_type": "code",
   "execution_count": null,
   "id": "eb6e3349",
   "metadata": {},
   "outputs": [
    {
     "data": {
      "text/html": [
       "<div>\n",
       "<style scoped>\n",
       "    .dataframe tbody tr th:only-of-type {\n",
       "        vertical-align: middle;\n",
       "    }\n",
       "\n",
       "    .dataframe tbody tr th {\n",
       "        vertical-align: top;\n",
       "    }\n",
       "\n",
       "    .dataframe thead th {\n",
       "        text-align: right;\n",
       "    }\n",
       "</style>\n",
       "<table border=\"1\" class=\"dataframe\">\n",
       "  <thead>\n",
       "    <tr style=\"text-align: right;\">\n",
       "      <th></th>\n",
       "      <th>Customer ID</th>\n",
       "      <th>Name</th>\n",
       "      <th>Email</th>\n",
       "      <th>Telephone</th>\n",
       "      <th>City</th>\n",
       "      <th>Country</th>\n",
       "      <th>Gender</th>\n",
       "      <th>Date Of Birth</th>\n",
       "      <th>Job Title</th>\n",
       "    </tr>\n",
       "  </thead>\n",
       "  <tbody>\n",
       "    <tr>\n",
       "      <th>0</th>\n",
       "      <td>1</td>\n",
       "      <td>Tyler Garcia</td>\n",
       "      <td>tyler.garcia@fake_gmail.com</td>\n",
       "      <td>922.970.2265x47563</td>\n",
       "      <td>New York</td>\n",
       "      <td>United States</td>\n",
       "      <td>M</td>\n",
       "      <td>2003-07-15</td>\n",
       "      <td>NaN</td>\n",
       "    </tr>\n",
       "    <tr>\n",
       "      <th>1</th>\n",
       "      <td>2</td>\n",
       "      <td>Joshua Miller</td>\n",
       "      <td>joshua.miller@fake_gmail.com</td>\n",
       "      <td>+1-958-729-6169</td>\n",
       "      <td>New York</td>\n",
       "      <td>United States</td>\n",
       "      <td>M</td>\n",
       "      <td>2000-06-16</td>\n",
       "      <td>Records manager</td>\n",
       "    </tr>\n",
       "    <tr>\n",
       "      <th>2</th>\n",
       "      <td>3</td>\n",
       "      <td>Alison Marshall DDS</td>\n",
       "      <td>alison.marshall.dds@fake_hotmail.com</td>\n",
       "      <td>+1-645-567-0876x5409</td>\n",
       "      <td>New York</td>\n",
       "      <td>United States</td>\n",
       "      <td>F</td>\n",
       "      <td>2003-07-22</td>\n",
       "      <td>NaN</td>\n",
       "    </tr>\n",
       "    <tr>\n",
       "      <th>3</th>\n",
       "      <td>4</td>\n",
       "      <td>Jeffery Acosta</td>\n",
       "      <td>jeffery.acosta@fake_yahoo.com</td>\n",
       "      <td>212.336.0912x84994</td>\n",
       "      <td>New York</td>\n",
       "      <td>United States</td>\n",
       "      <td>M</td>\n",
       "      <td>1996-11-12</td>\n",
       "      <td>Proofreader</td>\n",
       "    </tr>\n",
       "    <tr>\n",
       "      <th>4</th>\n",
       "      <td>5</td>\n",
       "      <td>Ashley Sanders</td>\n",
       "      <td>ashley.sanders@fake_hotmail.com</td>\n",
       "      <td>7814535781</td>\n",
       "      <td>New York</td>\n",
       "      <td>United States</td>\n",
       "      <td>F</td>\n",
       "      <td>1998-02-10</td>\n",
       "      <td>Exercise physiologist</td>\n",
       "    </tr>\n",
       "  </tbody>\n",
       "</table>\n",
       "</div>"
      ],
      "text/plain": [
       "   Customer ID                 Name                                 Email  \\\n",
       "0            1         Tyler Garcia           tyler.garcia@fake_gmail.com   \n",
       "1            2        Joshua Miller          joshua.miller@fake_gmail.com   \n",
       "2            3  Alison Marshall DDS  alison.marshall.dds@fake_hotmail.com   \n",
       "3            4       Jeffery Acosta         jeffery.acosta@fake_yahoo.com   \n",
       "4            5       Ashley Sanders       ashley.sanders@fake_hotmail.com   \n",
       "\n",
       "              Telephone      City        Country Gender Date Of Birth  \\\n",
       "0    922.970.2265x47563  New York  United States      M    2003-07-15   \n",
       "1       +1-958-729-6169  New York  United States      M    2000-06-16   \n",
       "2  +1-645-567-0876x5409  New York  United States      F    2003-07-22   \n",
       "3    212.336.0912x84994  New York  United States      M    1996-11-12   \n",
       "4            7814535781  New York  United States      F    1998-02-10   \n",
       "\n",
       "               Job Title  \n",
       "0                    NaN  \n",
       "1        Records manager  \n",
       "2                    NaN  \n",
       "3            Proofreader  \n",
       "4  Exercise physiologist  "
      ]
     },
     "execution_count": 17,
     "metadata": {},
     "output_type": "execute_result"
    }
   ],
   "source": [
    "customers.head()"
   ]
  },
  {
   "cell_type": "markdown",
   "id": "78a11c17",
   "metadata": {},
   "source": [
    "# Key Findings & Recommendations"
   ]
  }
 ],
 "metadata": {
  "kernelspec": {
   "display_name": "Python 3",
   "language": "python",
   "name": "python3"
  },
  "language_info": {
   "codemirror_mode": {
    "name": "ipython",
    "version": 3
   },
   "file_extension": ".py",
   "mimetype": "text/x-python",
   "name": "python",
   "nbconvert_exporter": "python",
   "pygments_lexer": "ipython3",
   "version": "3.13.2"
  }
 },
 "nbformat": 4,
 "nbformat_minor": 5
}
