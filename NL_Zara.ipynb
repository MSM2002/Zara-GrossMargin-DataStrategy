{
 "cells": [
  {
   "cell_type": "markdown",
   "id": "9b3e1010",
   "metadata": {},
   "source": [
    "# Business Problem Overview"
   ]
  },
  {
   "cell_type": "markdown",
   "id": "5be474c6",
   "metadata": {},
   "source": [
    "\n",
    "## Zara: Maximising Gross Margin through Data-Driven Retail Strategy\n",
    "Zara is among the world’s largest and most recognized fashion brands, with a global presence spanning many countries. The brand is renowned for its fast fashion approach, on-trend designs, and highly efficient supply chain. As Zara expands, its focus is shifting from simply boosting sales to enhancing profitability.\n",
    "\n",
    "The company’s leadership has pinpointed **Gross Margin** as a crucial business metric. Gross Margin represents the gap between Zara’s revenue and the costs incurred to produce its products. By increasing Gross Margin, Zara can maintain affordable prices for customers while ensuring strong profits.\n",
    "\n",
    "Zara sees various untapped opportunities to improve this margin. These could include:\n",
    "- How products are priced\n",
    "- Which customer groups are targeted\n",
    "- Identifying top-performing stores\n",
    "- The way discounts are managed\n",
    "- The profit contribution of different product categories\n",
    "\n",
    "**Key Metric:** Gross Margin\n",
    "- $\\text{Gross Margin} = \\text{Revenue} − \\text{Production Cost}$\n",
    "\n",
    "Where:\n",
    "- $\\text{Revenue} = \\text{Unit Price} \\times \\text{Quantity} \\times (1 − \\text{Discount})$\n",
    "- $\\text{Production Cost} = \\text{Unit Production Cost} \\times \\text{Quantity}$\n",
    "### Objective\n",
    "A data analyst at Zara works with the company’s global retail dataset to uncover insights that support maximizing Gross Margin across various markets, product lines, and customer segments. This involves:\n",
    "\n",
    "- Breaking down Gross Margin as a business metric by examining it across different dimensions, such as geography, product categories, time periods, customer profiles, and store performance.\n",
    "- Identifying which combinations of product types, customer groups, and locations are the most and least profitable.\n",
    "- Investigating how operational factors-like discount strategies, employee roles, or store sizes-affect margin performance.\n",
    "- Analyzing trends over time, across regions, and among store types to generate actionable insights for pricing, product focus, and resource allocation."
   ]
  },
  {
   "cell_type": "markdown",
   "id": "bb982a98",
   "metadata": {},
   "source": [
    "# Dataset Overview"
   ]
  },
  {
   "cell_type": "markdown",
   "id": "da996b0c",
   "metadata": {},
   "source": [
    "- **Dataset Name** : Zara Retail Dataset\n",
    "- **Number of Tables** : 6\n",
    "- **List of Tables**:\n",
    "    - Customers\n",
    "    - Discounts\n",
    "    - Employees\n",
    "    - Products\n",
    "    - Stores\n",
    "    - Transactions"
   ]
  },
  {
   "cell_type": "markdown",
   "id": "814b97ba",
   "metadata": {},
   "source": [
    "## Table Overviews"
   ]
  },
  {
   "cell_type": "markdown",
   "id": "36f6995e",
   "metadata": {},
   "source": [
    "### 1. Customers"
   ]
  },
  {
   "cell_type": "markdown",
   "id": "40483ed9",
   "metadata": {},
   "source": [
    "- **Table Name** : Customers\n",
    "- **Number of Rows** : 1643306\n",
    "- **Number of Columns** : 9\n",
    "- **Description** : This table gives details of Zara's customers including contact information, location and job title."
   ]
  },
  {
   "cell_type": "markdown",
   "id": "78052d6e",
   "metadata": {},
   "source": [
    "### 2. Discounts"
   ]
  },
  {
   "cell_type": "markdown",
   "id": "eaf56efd",
   "metadata": {},
   "source": [
    "- **Table Name** : Discounts\n",
    "- **Number of Rows** : 181\n",
    "- **Number of Columns** : 6\n",
    "- **Description** : This table gives details of discount sales in Zara stores."
   ]
  },
  {
   "cell_type": "markdown",
   "id": "b3f520b0",
   "metadata": {},
   "source": [
    "### 3. Employees"
   ]
  },
  {
   "cell_type": "markdown",
   "id": "b2e455c0",
   "metadata": {},
   "source": [
    "- **Table Name** : Employees\n",
    "- **Number of Rows** : 404\n",
    "- **Number of Columns** : 4\n",
    "- **Description** : This table gives details of each employee in all of Zara's stores"
   ]
  },
  {
   "cell_type": "markdown",
   "id": "b11cb7f9",
   "metadata": {},
   "source": [
    "### 4. Products"
   ]
  },
  {
   "cell_type": "markdown",
   "id": "1cfb3236",
   "metadata": {},
   "source": [
    "- **Table Name** : Products\n",
    "- **Number of Rows** : 17940\n",
    "- **Number of Columns** : 12\n",
    "- **Description** : This table gives details of products sold in Zara stores."
   ]
  },
  {
   "cell_type": "markdown",
   "id": "313d5bfa",
   "metadata": {},
   "source": [
    "### 5. Stores"
   ]
  },
  {
   "cell_type": "markdown",
   "id": "fc5a0eed",
   "metadata": {},
   "source": [
    "- **Table Name** : Stores\n",
    "- **Number of Rows** : 35\n",
    "- **Number of Columns** : 8\n",
    "- **Description** : This table gives details of Zara stores with locations and number of employees"
   ]
  },
  {
   "cell_type": "markdown",
   "id": "678074ce",
   "metadata": {},
   "source": [
    "### 6. Transactions"
   ]
  },
  {
   "cell_type": "markdown",
   "id": "b24853cd",
   "metadata": {},
   "source": [
    "- **Table Name** : Transactions\n",
    "- **Number of Rows** : 6416827\n",
    "- **Number of Columns** : 19\n",
    "- **Description** : This table gives transactions details of all sales in Zara stores"
   ]
  },
  {
   "cell_type": "markdown",
   "id": "fe87b850",
   "metadata": {},
   "source": [
    "## Column Definitions"
   ]
  },
  {
   "cell_type": "markdown",
   "id": "2005f6f8",
   "metadata": {},
   "source": [
    "### 1. Customers"
   ]
  },
  {
   "cell_type": "markdown",
   "id": "abbb6d78",
   "metadata": {},
   "source": [
    "- **CustomerID**\n",
    "    - *Description*: Unique number assigned to each customer.\n",
    "    - *Example*: `1` refers to the customer Tyler Garcia.\n",
    "- **Name**\n",
    "    - *Description*: Full name of the customer. May include titles like \"Mr.\" or job-related suffixes.\n",
    "    - *Example*: `Tyler Garcia`\n",
    "- **Email**\n",
    "    - *Description*: Anonymized email address using fake domains (like fake_gmail.com).\n",
    "    - *Example*: `tyler.garcia@fake_gmail.com`\n",
    "- **Telephone**\n",
    "    - *Description*: Customer’s phone number. Formats may vary, and may include country codes or extensions.\n",
    "    - *Example*: `922.970.2265x47563`\t\n",
    "- **City**\n",
    "    - *Description*: City where the customer is located.\n",
    "    - *Example*: `New York`\n",
    "- **Country**\n",
    "    - *Description*: Country where the customer resides.\n",
    "    - *Example*: `United States`\n",
    "- **Gender**\n",
    "    - *Description*: Customer's gender. Values can be F (Female), M (Male), or D (Diverse).\n",
    "    - *Example*: `M`\n",
    "- **DateOfBirth**\n",
    "    - *Description*: Customer’s date of birth in YYYY-MM-DD format.\n",
    "    - *Example*: `1968-12-18`\n",
    "- **JobTitle**\n",
    "    - *Description*: Customer’s occupation. May be blank or contain multiple job roles.\n",
    "    - *Example*: `Restaurant manager`"
   ]
  },
  {
   "cell_type": "markdown",
   "id": "ba283fc2",
   "metadata": {},
   "source": [
    "### 2. Discounts"
   ]
  },
  {
   "cell_type": "markdown",
   "id": "69b5a742",
   "metadata": {},
   "source": [
    "- **Start Date**\n",
    "    - *Description*: The date when the discount campaign begins, in YYYY-MM-DD format.\n",
    "    - *Example*: `2024-06-01`\n",
    "- **End Date**\n",
    "    - *Description*: The date when the discount campaign ends, in YYYY-MM-DD format.\n",
    "    - *Example*: `2024-06-30`\n",
    "- **Discount**\n",
    "    - *Description*: Decimal value representing the discount rate. For example, 0.20 means a 20% discount.\n",
    "    - *Example*: `0.20`\n",
    "- **Description**\n",
    "    - *Description*: A short text describing the purpose or theme of the discount campaign.\n",
    "    - *Example*: `Summer sale discount on all items`\n",
    "- **Discount Percentage**\n",
    "    - *Description*: Another column showing the same discount rate as a decimal\n",
    "    - *Example*: `0.20`\n",
    "- **Category**\n",
    "    - *Description*: The main product category to which the discount applies.\n",
    "    - *Example*: `Feminine`\n",
    "- **Sub Category**\n",
    "    - *Description*: A more specific product sub-category under the main category where the discount applies.\n",
    "    - *Example*: `T-shirts and Tops`"
   ]
  },
  {
   "cell_type": "markdown",
   "id": "4c9b90e2",
   "metadata": {},
   "source": [
    "### 3. Employees"
   ]
  },
  {
   "cell_type": "markdown",
   "id": "3d0d5b5f",
   "metadata": {},
   "source": [
    "- **Employee ID**\n",
    "    - *Description*: A unique number assigned to each employee.\n",
    "    - *Example*: `1`\n",
    "- **Store ID**\n",
    "    - *Description*: Refers to the store where the employee works. This links to the Store ID column in the stores.csv file.\n",
    "    - *Example*: `1`\n",
    "- **Name**\n",
    "    - *Description*: Full name of the employee in the format: First Name followed by Last Name.\n",
    "    - *Example*: `Michelle Williams`\n",
    "- **Position**\n",
    "    - *Description*: The role of the employee in the store. Common roles include Manager (handles operations) and Seller (handles customer transactions).\n",
    "    - *Example*: `Manager`"
   ]
  },
  {
   "cell_type": "markdown",
   "id": "06302e9d",
   "metadata": {},
   "source": [
    "### 4. Products"
   ]
  },
  {
   "cell_type": "markdown",
   "id": "ec4b0469",
   "metadata": {},
   "source": [
    "- **Product ID**\n",
    "    - *Description*: Unique number assigned to each product.\n",
    "    - *Example*: `123`\n",
    "- **Category**\n",
    "    - *Description*: Main classification of the product. Common values include Feminine, Masculine, and Children.\n",
    "    - *Example*: `Feminine`\n",
    "- **Sub Category**\n",
    "    - *Description*: More specific product category within the main category.\n",
    "    - *Example*: `Coats and Blazers`\n",
    "- **Description PT**\n",
    "    - *Description*: Product description written in Portuguese.\n",
    "    - *Example*: `esportivo veludo verde com botões`\n",
    "- **Description DE**\n",
    "    - *Description*: Product description written in German.\n",
    "    - *Example*: `Sport Samt Sport mit Knöpfen`\n",
    "- **Description FR**\n",
    "    - *Description*: Product description written in French.\n",
    "    - *Example*: `Sports Velvet Sports avec des boutons`\n",
    "- **Description ES**\n",
    "    - *Description*: Product description written in Spanish.\n",
    "    - *Example*: `deportes de terciopelo con botones`\n",
    "- **Description EN**\n",
    "    - *Description*: Product description written in English.\n",
    "    - *Example*: `sports velvet sports with buttons`\n",
    "- **Description ZH**\n",
    "    - *Description*: Product description written in Chinese.\n",
    "    - *Example*: `运动天鹅绒运动与按钮`\n",
    "- **Color**\n",
    "    - *Description*: The color of the product.\n",
    "    - *Example*: `PINK`\n",
    "- **Sizes**\n",
    "    - *Description*: Available sizes for the product, separated by pipes (|).\n",
    "    - *Example*: `S|M|L|XL`\n",
    "- **Production Cost**\n",
    "    - *Description*: Cost in USD to produce one unit of the product.\n",
    "    - *Example*: `22.62`"
   ]
  },
  {
   "cell_type": "markdown",
   "id": "46e91ad3",
   "metadata": {},
   "source": [
    "### 5. Stores"
   ]
  },
  {
   "cell_type": "markdown",
   "id": "f301e3ef",
   "metadata": {},
   "source": [
    "- **Store ID**\n",
    "    - *Description*: Unique number assigned to each store location.\n",
    "    - *Example*: `1`\n",
    "- **Country**\n",
    "    - *Description*: Country where the store is located.\n",
    "    - *Example*: `中国 (China)`\n",
    "- **City**\n",
    "    - *Description*: City where the store operates.\n",
    "    - *Example*: `上海 (Shanghai)`\n",
    "- **Store Name**\n",
    "    - *Description*: Name of the store, typically shown as \"Store [City]\".\n",
    "    - *Example*: `Store 上海`\n",
    "- **Number of Employees**\n",
    "    - *Description*: Total number of employees working at the store.\n",
    "    - *Example*: `5`\n",
    "- **ZIP Code**\n",
    "    - *Description*: Postal or ZIP code of the store’s location.\n",
    "    - *Example*: `200000`\n",
    "- **Latitude**\n",
    "    - *Description*: Geographical latitude of the store’s position.\n",
    "    - *Example*: `31.2304`\n",
    "- **Longitude**\n",
    "    - *Description*: Geographical longitude of the store’s position.\n",
    "    - *Example*: `121.4737`"
   ]
  },
  {
   "cell_type": "markdown",
   "id": "dc0e2ddc",
   "metadata": {},
   "source": [
    "### 6. Transactions"
   ]
  },
  {
   "cell_type": "markdown",
   "id": "1d156d6a",
   "metadata": {},
   "source": [
    "- **Invoice ID**\n",
    "    - *Description*: A unique code for each transaction. It shows if it’s a sale (INV) or return (RET), along with the country code, store ID, and a serial number. All line items in the same invoice share this ID.\n",
    "    - *Example*: `INV-US-001-00001233`\n",
    "- **Line**\n",
    "    - *Description*: The position of the product in the invoice. One invoice may have multiple line items.\n",
    "    - *Example*: `1`\n",
    "- **Customer ID**\n",
    "    - *Description*: ID of the customer who made the purchase. Refers to the customers.csv file.\n",
    "    - *Example*: `380368`\n",
    "- **Product ID**\n",
    "    - *Description*: ID of the product that was purchased. Refers to the products.csv file.\n",
    "    - *Example*: `1816`\n",
    "- **Size**\n",
    "    - *Description*: Size of the product purchased (like S, M, L, XL). May be blank if not applicable.\n",
    "    - *Example*: `M`\n",
    "- **Color**\n",
    "    - *Description*: Color of the product purchased. May be blank if not applicable.\n",
    "    - *Example*: `PINK`\n",
    "- **Unit Price**\n",
    "    - *Description*: Price for a single unit of the product before applying any discount.\n",
    "    - *Example*: `198.00`\n",
    "- **Quantity**\n",
    "    - *Description*: Number of units purchased for this product line.\n",
    "    - *Example*: `2`\n",
    "- **Date**\n",
    "    - *Description*: Date and time of the transaction in YYYY-MM-DD HH:MM:SS format.\n",
    "    - *Example*: `2023-01-01 12:23:00`\n",
    "- **Discount**\n",
    "    - *Description*: Discount applied to this line item, shown as a decimal (e.g., 0.30 means 30% off).\n",
    "    - *Example*: `0.30`\n",
    "- **Line Total**\n",
    "    - *Description*: Final cost for this line item after discount. Calculated as: Unit Price × Quantity × (1 - Discount).\n",
    "    - *Example*: `277.20`\n",
    "- **Store ID**\n",
    "    - *Description*: ID of the store where the purchase happened. Refers to the stores.csv file.\n",
    "    - *Example*: `6`\n",
    "- **Employee ID**\n",
    "    - *Description*: ID of the employee who processed the sale. Refers to the employees.csv file.\n",
    "    - *Example*: `37`\n",
    "- **Currency**\n",
    "    - *Description*: Three-letter currency code used in the transaction (like USD, EUR, GBP, CNY).\n",
    "    - *Example*: `USD`\n",
    "    - For conversion use below rates\n",
    "        - 1 Euro (EUR) ≈ 1.1 USD\n",
    "        - 1 British Pound (GBP) ≈ 1.3 USD\n",
    "        - 1 Chinese Yuan (CNY) ≈ 0.13 USD\n",
    "- **Currency Symbol**\n",
    "    - *Description*: Symbol for the currency used in the transaction.\n",
    "    - *Example*: `$`\n",
    "- **SKU**\n",
    "    - *Description*: Stock Keeping Unit, a code made by combining Product ID, Size, and Color.\n",
    "    - *Example*: `FESH81-M-PINK`\n",
    "- **Transaction Type**\n",
    "    - *Description*: Indicates whether the entry is a Sale or a Return.\n",
    "    - *Example*: `Sale`\n",
    "- **Payment Method**\n",
    "    - *Description*: How the customer paid — options may include Credit Card, Cash, etc.\n",
    "    - *Example*: `Credit Card`\n",
    "- **Invoice Total**\n",
    "    - *Description*: Total value of the full invoice. This value is repeated for all line items under the same Invoice ID.\n",
    "    - *Example*: `347.50`"
   ]
  },
  {
   "cell_type": "markdown",
   "id": "22831fe3",
   "metadata": {},
   "source": [
    "## Relationships Between Tables"
   ]
  },
  {
   "cell_type": "markdown",
   "id": "c259a941",
   "metadata": {},
   "source": [
    "| Table 1       | Key Column(s) | Table 2 | Key Column(s)       | Relationship Description                    |\n",
    "|---------------|---------------|---------|---------------------|---------------------------------------------|\n",
    "|Transactions   |Customer ID    |Customers|Customer ID          | Each transaction is made by a customer      |\n",
    "|Transactions   |Product ID     |Products |Product ID           | Each transaction involves a product         |\n",
    "|Transactions   |Store ID       |Stores   |Store ID             | Each transaction happens at a store         |\n",
    "|Transactions   |Employee ID    |Employees|Employee ID          | Each transaction is handled by an employee  |\n",
    "|Transactions   |Date           |Discounts|Start Date, End Date | Discount can apply if the transaction date falls within the range |\n",
    "|Employees      |Store ID       |Stores   |Store ID             | Each employee works at a store              |\n",
    "|Products       |Sub Category, Category |Discounts      |Sub Category, Category | Discounts are defined by specific product groups|"
   ]
  },
  {
   "cell_type": "markdown",
   "id": "2b679989",
   "metadata": {},
   "source": [
    "# Analysis & Visualisation"
   ]
  },
  {
   "cell_type": "markdown",
   "id": "8f0d4fe6",
   "metadata": {},
   "source": [
    "## 1. Importing & Cleaning Data"
   ]
  },
  {
   "cell_type": "markdown",
   "id": "a0a8473a",
   "metadata": {},
   "source": [
    "The following code will download the datasets from Google Drive and storing them in a directory called `Datasets`."
   ]
  },
  {
   "cell_type": "code",
   "execution_count": 2,
   "id": "7234fd23",
   "metadata": {},
   "outputs": [],
   "source": [
    "import pandas as pd\n",
    "import gdown"
   ]
  },
  {
   "cell_type": "code",
   "execution_count": null,
   "id": "97c093ed",
   "metadata": {},
   "outputs": [],
   "source": [
    "# Storing file_ids with their file names in a list\n",
    "files = [('1gU90GdFLZOO5jPePOAVbNakNX5DCKgtQ', 'transactions'),\n",
    "         ('1QoHCOAkfdKciP94CxUfw4xf9oZyXBqD6','stores'),\n",
    "         ('1B-XBx4cHbYMCoY--P3s3Lmy9QVzouCyC','products'),\n",
    "         ('1lZwCUHlwgX97-xcbQV8FEeQ2JLtJQa1s','employees'),\n",
    "         ('1NJ0O1NJ20VeMzZYHiFBCrOIFnXKaggTc','discounts'),\n",
    "         ('13-juheNtpYsXAjm_D0W7EDB86pAl1Pew','customers')] \n",
    "\n",
    "for file_id, name in files:\n",
    "   download_url = f\"https://drive.google.com/uc?id={file_id}\"\n",
    "   download_file = f\"Datasets/{name}.csv\"  # First create the directory Datasets in your Project folder\n",
    "   gdown.download(download_url, download_file, quiet=False)"
   ]
  },
  {
   "cell_type": "code",
   "execution_count": 3,
   "id": "862f26a9",
   "metadata": {},
   "outputs": [
    {
     "name": "stderr",
     "output_type": "stream",
     "text": [
      "C:\\Users\\Tanay Reddy\\AppData\\Local\\Temp\\ipykernel_6800\\1314012598.py:7: DtypeWarning: Columns (3) have mixed types. Specify dtype option on import or set low_memory=False.\n",
      "  customers = pd.read_csv(\"Datasets/customers.csv\")\n"
     ]
    }
   ],
   "source": [
    "# Reading the CSVs into dataframes\n",
    "transactions = pd.read_csv(\"Datasets/transactions.csv\")\n",
    "stores = pd.read_csv(\"Datasets/stores.csv\")\n",
    "products = pd.read_csv(\"Datasets/products.csv\")\n",
    "employees = pd.read_csv(\"Datasets/employees.csv\")\n",
    "discounts = pd.read_csv(\"Datasets/discounts.csv\")\n",
    "customers = pd.read_csv(\"Datasets/customers.csv\")"
   ]
  },
  {
   "cell_type": "markdown",
   "id": "78a11c17",
   "metadata": {},
   "source": [
    "# Key Findings & Recommendations"
   ]
  }
 ],
 "metadata": {
  "kernelspec": {
   "display_name": "Python 3",
   "language": "python",
   "name": "python3"
  },
  "language_info": {
   "codemirror_mode": {
    "name": "ipython",
    "version": 3
   },
   "file_extension": ".py",
   "mimetype": "text/x-python",
   "name": "python",
   "nbconvert_exporter": "python",
   "pygments_lexer": "ipython3",
   "version": "3.13.3"
  }
 },
 "nbformat": 4,
 "nbformat_minor": 5
}
